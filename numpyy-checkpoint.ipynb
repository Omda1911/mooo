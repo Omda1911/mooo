{
 "cells": [
  {
   "cell_type": "code",
   "execution_count": 3,
   "id": "2147aa33",
   "metadata": {},
   "outputs": [],
   "source": [
    "import numpy as np"
   ]
  },
  {
   "cell_type": "code",
   "execution_count": 14,
   "id": "52f31c53",
   "metadata": {},
   "outputs": [
    {
     "name": "stdout",
     "output_type": "stream",
     "text": [
      "Enter the number of the student : 2\n",
      "Enter the number of the subjects : 4\n",
      "Enter the marks of the student {i+1} in subject {m+1}: 89\n",
      "Enter the marks of the student {i+1} in subject {m+1}: 95\n",
      "Enter the marks of the student {i+1} in subject {m+1}: 98\n",
      "Enter the marks of the student {i+1} in subject {m+1}: 85\n",
      "Enter the marks of the student {i+1} in subject {m+1}: 97\n",
      "Enter the marks of the student {i+1} in subject {m+1}: 90\n",
      "Enter the marks of the student {i+1} in subject {m+1}: 87\n",
      "Enter the marks of the student {i+1} in subject {m+1}: 80\n",
      "Student\tTotal Marks\tPercentage\tGrade\n",
      "1\t367.0\t91.75%\tA+\n",
      "2\t354.0\t88.5%\tA\n"
     ]
    }
   ],
   "source": [
    "num_students = int(input(\"Enter the number of the student : \"))\n",
    "num_subjects = int(input(\"Enter the number of the subjects : \"))\n",
    "\n",
    "array =np.zeros((num_students, num_subjects))\n",
    "\n",
    "for i in range(num_students):\n",
    "    for m in range(num_subjects):\n",
    "        array[i][m] =float(input(\"Enter the marks of the student {i+1} in subject {m+1}: \"))\n",
    "\n",
    "total_marks =np.sum(array, 1)\n",
    "\n",
    "percentage = (total_marks / (num_subjects * 100)) * 100\n",
    "\n",
    "grades = []\n",
    "for z in percentage:\n",
    "    if z >= 90:\n",
    "        grades.append(\"A+\")\n",
    "    elif z >= 80:\n",
    "        grades.append(\"A\")\n",
    "    elif z >= 70:\n",
    "        grades.append(\"B+\")\n",
    "    elif z >= 60:\n",
    "        grades.append(\"B\")\n",
    "    elif z >= 50:\n",
    "        grades.append(\"C\")\n",
    "    else:\n",
    "        grades.append(\"F\")\n",
    "# Displaying the result \n",
    "print(\"Student\\tTotal Marks\\tPercentage\\tGrade\")\n",
    "for i in range(num_students):\n",
    "    print(f\"{i+1}\\t{total_marks[i]}\\t{percentage[i]}%\\t{grades[i]}\")"
   ]
  },
  {
   "cell_type": "code",
   "execution_count": null,
   "id": "9e8a995e",
   "metadata": {},
   "outputs": [],
   "source": []
  },
  {
   "cell_type": "code",
   "execution_count": null,
   "id": "133592d8",
   "metadata": {},
   "outputs": [],
   "source": []
  },
  {
   "cell_type": "code",
   "execution_count": null,
   "id": "2d35a344",
   "metadata": {},
   "outputs": [],
   "source": [
    "\n",
    "\n",
    "\n",
    "\n",
    "\n"
   ]
  }
 ],
 "metadata": {
  "kernelspec": {
   "display_name": "Python 3 (ipykernel)",
   "language": "python",
   "name": "python3"
  },
  "language_info": {
   "codemirror_mode": {
    "name": "ipython",
    "version": 3
   },
   "file_extension": ".py",
   "mimetype": "text/x-python",
   "name": "python",
   "nbconvert_exporter": "python",
   "pygments_lexer": "ipython3",
   "version": "3.10.9"
  }
 },
 "nbformat": 4,
 "nbformat_minor": 5
}
